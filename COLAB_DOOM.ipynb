{
  "cells": [
    {
      "cell_type": "markdown",
      "metadata": {
        "id": "view-in-github",
        "colab_type": "text"
      },
      "source": [
        "<a href=\"https://colab.research.google.com/github/Aristonteles/DOOM-in-Google-Colab/blob/main/COLAB_DOOM.ipynb\" target=\"_parent\"><img src=\"https://colab.research.google.com/assets/colab-badge.svg\" alt=\"Open In Colab\"/></a>"
      ]
    },
    {
      "cell_type": "markdown",
      "metadata": {
        "id": "cY0LB5039DnU"
      },
      "source": [
        "# Doom In Google Colab\n",
        "Play dooom in Google Colab!\n",
        "\n",
        "\n",
        "Descarga el juego en un archivo ZIP de alguna pagina web por ejemplo Archive.org.\n",
        "\n",
        "En la página de descarga, busca y haz clic en el botón \"DESCARGAR OPCIÓN 1\" para comenzar a descargar el archivo ZIP del juego (si vas a usar archive.org)\n",
        "\n",
        "Una vez que la descarga esté completa, ve a tu unidad de Google Drive y sube el archivo ZIP allí. Puedes hacerlo arrastrando el archivo a la interfaz de Google Drive o utilizando el botón de carga.\n",
        "\n",
        "Después de que el archivo ZIP esté en tu Google Drive, puedes utilizar Google Colab para montar tu Google Drive y acceder al archivo ZIP desde allí."
      ]
    },
    {
      "cell_type": "markdown",
      "metadata": {
        "id": "yV2LBsh5822j"
      },
      "source": [
        "# 1. Mount drive"
      ]
    },
    {
      "cell_type": "code",
      "execution_count": null,
      "metadata": {
        "colab": {
          "base_uri": "https://localhost:8080/"
        },
        "id": "GTO6tRm58_68",
        "outputId": "df06bec6-3c3e-40d4-aac8-509a5a1554d9"
      },
      "outputs": [
        {
          "name": "stdout",
          "output_type": "stream",
          "text": [
            "Mounted at /content/drive\n"
          ]
        }
      ],
      "source": [
        "from google.colab import drive\n",
        "drive.mount('/content/drive')\n"
      ]
    },
    {
      "cell_type": "markdown",
      "metadata": {
        "id": "agc98gi_9gLR"
      },
      "source": [
        "# Step 2. Download DOSbox"
      ]
    },
    {
      "cell_type": "code",
      "execution_count": null,
      "metadata": {
        "id": "tAnSE7ff9w45"
      },
      "outputs": [],
      "source": [
        "!apt-get install dosbox\n"
      ]
    },
    {
      "cell_type": "markdown",
      "source": [
        "# Edita el archivo de configuración de DOSBox para habilitar el sonido"
      ],
      "metadata": {
        "id": "Hvh3juG0GPHJ"
      }
    },
    {
      "cell_type": "code",
      "source": [
        "# Edita el archivo de configuración de DOSBox para habilitar el sonido\n",
        "!dosbox -editconf\n"
      ],
      "metadata": {
        "id": "Amgn9Cc0Gba-"
      },
      "execution_count": null,
      "outputs": []
    },
    {
      "cell_type": "markdown",
      "source": [
        "Después de ejecutar el comando anterior, se abrirá el archivo de configuración de DOSBox en un editor de texto. Dentro del editor, busca la sección [sblaster] y ajusta los parámetros según sea necesario para habilitar el sonido. Guarda los cambios y cierra el editor de texto."
      ],
      "metadata": {
        "id": "0v7Au0hqGyL8"
      }
    },
    {
      "cell_type": "markdown",
      "metadata": {
        "id": "d84ksqbUCemJ"
      },
      "source": [
        "# Descomprimir archivo ZIP desde Colab\n",
        "Es importante reemplazar \"/ruta/al/archivo.zip\" con la ruta real en tu Google Drive donde hayas subido el archivo ZIP de DOOM. Una vez que hayas descomprimido el archivo ZIP, asegúrate de ubicar el archivo de instalación de DOOM dentro de la carpeta descomprimida para seguir con la instalación y ejecución del juego."
      ]
    },
    {
      "cell_type": "code",
      "execution_count": null,
      "metadata": {
        "id": "XCyzGSljCzTo"
      },
      "outputs": [],
      "source": [
        "!unzip /content/drive/MyDrive/doom1993.zip -d /content/doom\n"
      ]
    },
    {
      "cell_type": "markdown",
      "source": [
        "# Reinicia DOSBox para aplicar los cambios en la configuración\n"
      ],
      "metadata": {
        "id": "u_Oo2DpKG8zj"
      }
    },
    {
      "cell_type": "code",
      "source": [
        "# Reinicia DOSBox para aplicar los cambios en la configuración\n",
        "!killall dosbox\n"
      ],
      "metadata": {
        "id": "w34yNT7WG_sI"
      },
      "execution_count": null,
      "outputs": []
    },
    {
      "cell_type": "markdown",
      "metadata": {
        "id": "Iyu9YdIWC_8x"
      },
      "source": [
        "#Monta el archivo de instalación en DOSBox: Utiliza el siguiente código en Google Colab para montar el archivo de instalación del juego en DOSBox:\n",
        "Instala el juego: Sigue las instrucciones de instalación que aparezcan en pantalla dentro de DOSBox. Normalmente, esto implica seleccionar el directorio de instalación y esperar a que los archivos se copien."
      ]
    },
    {
      "cell_type": "code",
      "execution_count": null,
      "metadata": {
        "colab": {
          "background_save": true
        },
        "id": "JtMdJ9HFDFl3"
      },
      "outputs": [],
      "source": [
        "!dosbox -c \"mount c /content/doom\" -c \"c:\" -c \"install\"\n"
      ]
    },
    {
      "cell_type": "markdown",
      "metadata": {
        "id": "sMXCoaiuDilF"
      },
      "source": [
        "# Ejecuta el juego\n",
        "\n",
        "Ejecuta el juego: Después de que la instalación esté completa, puedes ejecutar el juego utilizando el siguiente comando\n"
      ]
    },
    {
      "cell_type": "code",
      "execution_count": null,
      "metadata": {
        "id": "GJrnWSwLD16N"
      },
      "outputs": [],
      "source": [
        "!dosbox -c \"mount c /content/doom\" -c \"c:\" -c \"cd doom\" -c \"doom\"\n"
      ]
    }
  ],
  "metadata": {
    "colab": {
      "provenance": [],
      "authorship_tag": "ABX9TyPUmWAyf121jITmI6gWhMKd",
      "include_colab_link": true
    },
    "kernelspec": {
      "display_name": "Python 3",
      "name": "python3"
    },
    "language_info": {
      "name": "python"
    }
  },
  "nbformat": 4,
  "nbformat_minor": 0
}