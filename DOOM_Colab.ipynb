{
  "nbformat": 4,
  "nbformat_minor": 0,
  "metadata": {
    "colab": {
      "provenance": [],
      "collapsed_sections": [
        "x_-YvyLWSlyM"
      ],
      "authorship_tag": "ABX9TyMO9HMD+CIrxbR9xsXSr9dM",
      "include_colab_link": true
    },
    "kernelspec": {
      "name": "python3",
      "display_name": "Python 3"
    },
    "language_info": {
      "name": "python"
    }
  },
  "cells": [
    {
      "cell_type": "markdown",
      "metadata": {
        "id": "view-in-github",
        "colab_type": "text"
      },
      "source": [
        "<a href=\"https://colab.research.google.com/github/Aristonteles/DOOM-in-Google-Colab/blob/main/DOOM_Colab.ipynb\" target=\"_parent\"><img src=\"https://colab.research.google.com/assets/colab-badge.svg\" alt=\"Open In Colab\"/></a>"
      ]
    },
    {
      "cell_type": "markdown",
      "source": [
        "# Ejecutar DOOM en Google Colab\n",
        "\n",
        "Este notebook permite ejecutar el clásico videojuego DOOM en Google Colab utilizando Chocolate Doom y FreeDoom. Sigue las instrucciones a continuación para configurar y ejecutar el juego.\n"
      ],
      "metadata": {
        "id": "UceceQ5dSV-U"
      }
    },
    {
      "cell_type": "markdown",
      "source": [
        "## Paso 1: Instalar Dependencias\n",
        "\n",
        "Ejecuta la siguiente celda para actualizar los paquetes e instalar las dependencias necesarias.\n"
      ],
      "metadata": {
        "id": "paDfhOIaSbti"
      }
    },
    {
      "cell_type": "code",
      "source": [
        "# Actualizar los paquetes e instalar las dependencias necesarias\n",
        "!apt-get update -qq\n",
        "!apt-get install -y -qq xvfb chocolate-doom x11vnc websockify novnc\n"
      ],
      "metadata": {
        "id": "OqHPzNa1SfyX"
      },
      "execution_count": 29,
      "outputs": []
    },
    {
      "cell_type": "markdown",
      "source": [
        "## Paso 2: Configurar la Pantalla Virtual\n",
        "\n",
        "Ejecuta la siguiente celda para configurar una pantalla virtual.\n"
      ],
      "metadata": {
        "id": "x_-YvyLWSlyM"
      }
    },
    {
      "cell_type": "code",
      "source": [
        "import os\n",
        "# Configurar una pantalla virtual\n",
        "os.system('Xvfb :1 -screen 0 1024x768x16 &')\n",
        "os.environ['DISPLAY'] = ':1'\n"
      ],
      "metadata": {
        "id": "nfl2O3LBSqWK"
      },
      "execution_count": 30,
      "outputs": []
    },
    {
      "cell_type": "markdown",
      "source": [
        "## Paso 3: Descargar y Descomprimir FreeDoom\n",
        "\n",
        "Ejecuta la siguiente celda para descargar y descomprimir los archivos WAD de FreeDoom.\n"
      ],
      "metadata": {
        "id": "bjViU2RWSzHx"
      }
    },
    {
      "cell_type": "code",
      "source": [
        "# Descargar y descomprimir los archivos WAD de FreeDoom\n",
        "!wget -q https://github.com/freedoom/freedoom/releases/download/v0.12.1/freedoom-0.12.1.zip\n",
        "!unzip -qq freedoom-0.12.1.zip"
      ],
      "metadata": {
        "id": "KFmcAUGnS5x_"
      },
      "execution_count": 32,
      "outputs": []
    },
    {
      "cell_type": "markdown",
      "source": [
        "## Paso 4: Ejecutar el Juego\n",
        "\n",
        "Ejecuta la siguiente celda para iniciar el juego usando los archivos WAD de FreeDoom.\n"
      ],
      "metadata": {
        "id": "fxUKlrEIS_B7"
      }
    },
    {
      "cell_type": "code",
      "source": [
        "# Ejecutar el juego usando los archivos WAD de FreeDoom\n",
        "!chocolate-doom -iwad freedoom-0.12.1/freedoom1.wad &\n"
      ],
      "metadata": {
        "colab": {
          "base_uri": "https://localhost:8080/"
        },
        "id": "lcLLswejTI4T",
        "outputId": "bb9270fd-a9ac-4c62-cd3d-bfb40e55a166"
      },
      "execution_count": 33,
      "outputs": [
        {
          "output_type": "stream",
          "name": "stdout",
          "text": [
            "/bin/bash: line 1: chocolate-doom: command not found\n"
          ]
        }
      ]
    },
    {
      "cell_type": "markdown",
      "source": [
        "## Paso 5: Iniciar y Verificar el Servidor VNC y Websockify\n",
        "\n",
        "Ejecuta la siguiente celda para iniciar y verificar el servidor VNC y Websockify.\n",
        "\n"
      ],
      "metadata": {
        "id": "mUsBoBS0Xnib"
      }
    },
    {
      "cell_type": "code",
      "source": [
        "import time\n",
        "import subprocess\n",
        "\n",
        "# Función para verificar el estado de x11vnc\n",
        "def check_vnc():\n",
        "    vnc_log = !cat /tmp/x11vnc.log | grep -i 'listening for VNC connections on'\n",
        "    return len(vnc_log) > 0\n",
        "\n",
        "# Función para verificar el estado de websockify\n",
        "def check_websockify():\n",
        "    websockify_status = !ps aux | grep websockify | grep -v grep\n",
        "    return len(websockify_status) > 0\n",
        "\n",
        "# Iniciar el servidor VNC\n",
        "vnc_process = subprocess.Popen(['x11vnc', '-display', ':1', '-forever', '-nopw', '-noxdamage', '-shared', '-logfile', '/tmp/x11vnc.log'])\n",
        "time.sleep(5)  # Esperar unos segundos para asegurarse de que el servidor VNC se inicia\n",
        "\n",
        "# Verificar si x11vnc está funcionando\n",
        "if check_vnc():\n",
        "    print(\"El servidor VNC está funcionando correctamente.\")\n",
        "else:\n",
        "    print(\"Error: El servidor VNC no se está ejecutando correctamente. Verifique los logs para más detalles.\")\n",
        "    !cat /tmp/x11vnc.log\n",
        "\n",
        "# Iniciar websockify\n",
        "websockify_process = subprocess.Popen(['websockify', '--web', '/usr/share/novnc/', '5901', 'localhost:5900'])\n",
        "time.sleep(5)  # Esperar unos segundos para asegurarse de que websockify se inicia\n",
        "\n",
        "# Verificar si websockify está funcionando\n",
        "if check_websockify():\n",
        "    print(\"Websockify está funcionando correctamente.\")\n",
        "else:\n",
        "    print(\"Error: Websockify no se está ejecutando correctamente.\")\n"
      ],
      "metadata": {
        "colab": {
          "base_uri": "https://localhost:8080/"
        },
        "id": "2_fp0IHDXp6l",
        "outputId": "0b336a1e-98b4-47a4-92ad-d615cf705a99"
      },
      "execution_count": 34,
      "outputs": [
        {
          "output_type": "stream",
          "name": "stdout",
          "text": [
            "Error: El servidor VNC no se está ejecutando correctamente. Verifique los logs para más detalles.\n",
            "31/05/2024 18:46:56 x11vnc version: 0.9.16 lastmod: 2019-01-05  pid: 22236\n",
            "31/05/2024 18:46:56 XOpenDisplay(\":1\") failed.\n",
            "31/05/2024 18:46:56 Trying again with XAUTHLOCALHOSTNAME=localhost ...\n",
            "\n",
            "31/05/2024 18:46:56 ***************************************\n",
            "31/05/2024 18:46:56 *** XOpenDisplay failed (:1)\n",
            "\n",
            "*** x11vnc was unable to open the X DISPLAY: \":1\", it cannot continue.\n",
            "*** There may be \"Xlib:\" error messages above with details about the failure.\n",
            "\n",
            "Some tips and guidelines:\n",
            "\n",
            "** An X server (the one you wish to view) must be running before x11vnc is\n",
            "   started: x11vnc does not start the X server.  (however, see the -create\n",
            "   option if that is what you really want).\n",
            "\n",
            "** You must use -display <disp>, -OR- set and export your $DISPLAY\n",
            "   environment variable to refer to the display of the desired X server.\n",
            " - Usually the display is simply \":0\" (in fact x11vnc uses this if you forget\n",
            "   to specify it), but in some multi-user situations it could be \":1\", \":2\",\n",
            "   or even \":137\".  Ask your administrator or a guru if you are having\n",
            "   difficulty determining what your X DISPLAY is.\n",
            "\n",
            "** Next, you need to have sufficient permissions (Xauthority) \n",
            "   to connect to the X DISPLAY.   Here are some Tips:\n",
            "\n",
            " - Often, you just need to run x11vnc as the user logged into the X session.\n",
            "   So make sure to be that user when you type x11vnc.\n",
            " - Being root is usually not enough because the incorrect MIT-MAGIC-COOKIE\n",
            "   file may be accessed.  The cookie file contains the secret key that\n",
            "   allows x11vnc to connect to the desired X DISPLAY.\n",
            " - You can explicitly indicate which MIT-MAGIC-COOKIE file should be used\n",
            "   by the -auth option, e.g.:\n",
            "       x11vnc -auth /home/someuser/.Xauthority -display :0\n",
            "       x11vnc -auth /tmp/.gdmzndVlR -display :0\n",
            "   you must have read permission for the auth file.\n",
            "   See also '-auth guess' and '-findauth' discussed below.\n",
            "\n",
            "** If NO ONE is logged into an X session yet, but there is a greeter login\n",
            "   program like \"gdm\", \"kdm\", \"xdm\", or \"dtlogin\" running, you will need\n",
            "   to find and use the raw display manager MIT-MAGIC-COOKIE file.\n",
            "   Some examples for various display managers:\n",
            "\n",
            "     gdm:     -auth /var/gdm/:0.Xauth\n",
            "              -auth /var/lib/gdm/:0.Xauth\n",
            "     kdm:     -auth /var/lib/kdm/A:0-crWk72\n",
            "              -auth /var/run/xauth/A:0-crWk72\n",
            "     xdm:     -auth /var/lib/xdm/authdir/authfiles/A:0-XQvaJk\n",
            "     dtlogin: -auth /var/dt/A:0-UgaaXa\n",
            "\n",
            "   Sometimes the command \"ps wwwwaux | grep auth\" can reveal the file location.\n",
            "\n",
            "   Starting with x11vnc 0.9.9 you can have it try to guess by using:\n",
            "\n",
            "              -auth guess\n",
            "\n",
            "   (see also the x11vnc -findauth option.)\n",
            "\n",
            "   Only root will have read permission for the file, and so x11vnc must be run\n",
            "   as root (or copy it).  The random characters in the filenames will of course\n",
            "   change and the directory the cookie file resides in is system dependent.\n",
            "\n",
            "See also: http://www.karlrunge.com/x11vnc/faq.html\n",
            "Error: Websockify no se está ejecutando correctamente.\n"
          ]
        }
      ]
    },
    {
      "cell_type": "markdown",
      "source": [
        "## Paso 6: Verificar Logs del Servidor VNC (Opcional)\n",
        "\n",
        "Ejecuta esta celda si tienes problemas para conectarte al servidor VNC. Esto mostrará los últimos 50 logs del servidor VNC.\n",
        "\n",
        "\n"
      ],
      "metadata": {
        "id": "T_NKWRwgXscE"
      }
    },
    {
      "cell_type": "code",
      "source": [
        "# Mostrar las últimas 50 líneas del log del servidor VNC\n",
        "!cat /tmp/x11vnc.log | tail -n 50\n"
      ],
      "metadata": {
        "colab": {
          "base_uri": "https://localhost:8080/"
        },
        "id": "3wc_RODaXwRu",
        "outputId": "e35a05d7-cfeb-473a-9dca-f1be01f6319d"
      },
      "execution_count": 35,
      "outputs": [
        {
          "output_type": "stream",
          "name": "stdout",
          "text": [
            "   started: x11vnc does not start the X server.  (however, see the -create\n",
            "   option if that is what you really want).\n",
            "\n",
            "** You must use -display <disp>, -OR- set and export your $DISPLAY\n",
            "   environment variable to refer to the display of the desired X server.\n",
            " - Usually the display is simply \":0\" (in fact x11vnc uses this if you forget\n",
            "   to specify it), but in some multi-user situations it could be \":1\", \":2\",\n",
            "   or even \":137\".  Ask your administrator or a guru if you are having\n",
            "   difficulty determining what your X DISPLAY is.\n",
            "\n",
            "** Next, you need to have sufficient permissions (Xauthority) \n",
            "   to connect to the X DISPLAY.   Here are some Tips:\n",
            "\n",
            " - Often, you just need to run x11vnc as the user logged into the X session.\n",
            "   So make sure to be that user when you type x11vnc.\n",
            " - Being root is usually not enough because the incorrect MIT-MAGIC-COOKIE\n",
            "   file may be accessed.  The cookie file contains the secret key that\n",
            "   allows x11vnc to connect to the desired X DISPLAY.\n",
            " - You can explicitly indicate which MIT-MAGIC-COOKIE file should be used\n",
            "   by the -auth option, e.g.:\n",
            "       x11vnc -auth /home/someuser/.Xauthority -display :0\n",
            "       x11vnc -auth /tmp/.gdmzndVlR -display :0\n",
            "   you must have read permission for the auth file.\n",
            "   See also '-auth guess' and '-findauth' discussed below.\n",
            "\n",
            "** If NO ONE is logged into an X session yet, but there is a greeter login\n",
            "   program like \"gdm\", \"kdm\", \"xdm\", or \"dtlogin\" running, you will need\n",
            "   to find and use the raw display manager MIT-MAGIC-COOKIE file.\n",
            "   Some examples for various display managers:\n",
            "\n",
            "     gdm:     -auth /var/gdm/:0.Xauth\n",
            "              -auth /var/lib/gdm/:0.Xauth\n",
            "     kdm:     -auth /var/lib/kdm/A:0-crWk72\n",
            "              -auth /var/run/xauth/A:0-crWk72\n",
            "     xdm:     -auth /var/lib/xdm/authdir/authfiles/A:0-XQvaJk\n",
            "     dtlogin: -auth /var/dt/A:0-UgaaXa\n",
            "\n",
            "   Sometimes the command \"ps wwwwaux | grep auth\" can reveal the file location.\n",
            "\n",
            "   Starting with x11vnc 0.9.9 you can have it try to guess by using:\n",
            "\n",
            "              -auth guess\n",
            "\n",
            "   (see also the x11vnc -findauth option.)\n",
            "\n",
            "   Only root will have read permission for the file, and so x11vnc must be run\n",
            "   as root (or copy it).  The random characters in the filenames will of course\n",
            "   change and the directory the cookie file resides in is system dependent.\n",
            "\n",
            "See also: http://www.karlrunge.com/x11vnc/faq.html\n"
          ]
        }
      ]
    },
    {
      "cell_type": "markdown",
      "source": [
        "## Paso 7: Reiniciar el Servidor VNC y Websockify (Opcional)\n",
        "\n",
        "Ejecuta esta celda si tienes problemas para conectarte al servidor VNC. Esto reiniciará los servicios de VNC y Websockify.\n"
      ],
      "metadata": {
        "id": "dcdaMVArxya3"
      }
    },
    {
      "cell_type": "code",
      "source": [
        "import subprocess\n",
        "\n",
        "# Detener cualquier instancia previa de x11vnc y websockify\n",
        "!pkill x11vnc\n",
        "!pkill websockify\n",
        "\n",
        "# Reiniciar el servidor VNC\n",
        "vnc_process = subprocess.Popen(['x11vnc', '-display', ':1', '-forever', '-nopw', '-noxdamage', '-shared', '-logfile', '/tmp/x11vnc.log'])\n",
        "time.sleep(5)  # Esperar unos segundos para asegurarse de que el servidor VNC se inicia correctamente\n",
        "\n",
        "# Verificar si x11vnc está funcionando\n",
        "if check_vnc():\n",
        "    print(\"El servidor VNC está funcionando correctamente.\")\n",
        "else:\n",
        "    print(\"Error: El servidor VNC no se está ejecutando correctamente. Verifique los logs para más detalles.\")\n",
        "    !cat /tmp/x11vnc.log\n",
        "\n",
        "# Reiniciar websockify\n",
        "websockify_process = subprocess.Popen(['websockify', '--web', '/usr/share/novnc/', '5901', 'localhost:5900'])\n",
        "time.sleep(5)  # Esperar unos segundos para asegurarse de que websockify se inicia\n",
        "\n",
        "# Verificar si websockify está funcionando\n",
        "if check_websockify():\n",
        "    print(\"Websockify está funcionando correctamente.\")\n",
        "else:\n",
        "    print(\"Error: Websockify no se está ejecutando correctamente.\")\n"
      ],
      "metadata": {
        "colab": {
          "base_uri": "https://localhost:8080/"
        },
        "id": "O1u28hZWx4Ec",
        "outputId": "6d883122-5ffa-4276-ee6b-cf6c8ffe4e85"
      },
      "execution_count": 28,
      "outputs": [
        {
          "output_type": "stream",
          "name": "stdout",
          "text": [
            "Error: El servidor VNC no se está ejecutando correctamente. Verifique los logs para más detalles.\n",
            "31/05/2024 18:40:50 x11vnc version: 0.9.16 lastmod: 2019-01-05  pid: 20047\n",
            "31/05/2024 18:40:50 XOpenDisplay(\":1\") failed.\n",
            "31/05/2024 18:40:50 Trying again with XAUTHLOCALHOSTNAME=localhost ...\n",
            "\n",
            "31/05/2024 18:40:50 ***************************************\n",
            "31/05/2024 18:40:50 *** XOpenDisplay failed (:1)\n",
            "\n",
            "*** x11vnc was unable to open the X DISPLAY: \":1\", it cannot continue.\n",
            "*** There may be \"Xlib:\" error messages above with details about the failure.\n",
            "\n",
            "Some tips and guidelines:\n",
            "\n",
            "** An X server (the one you wish to view) must be running before x11vnc is\n",
            "   started: x11vnc does not start the X server.  (however, see the -create\n",
            "   option if that is what you really want).\n",
            "\n",
            "** You must use -display <disp>, -OR- set and export your $DISPLAY\n",
            "   environment variable to refer to the display of the desired X server.\n",
            " - Usually the display is simply \":0\" (in fact x11vnc uses this if you forget\n",
            "   to specify it), but in some multi-user situations it could be \":1\", \":2\",\n",
            "   or even \":137\".  Ask your administrator or a guru if you are having\n",
            "   difficulty determining what your X DISPLAY is.\n",
            "\n",
            "** Next, you need to have sufficient permissions (Xauthority) \n",
            "   to connect to the X DISPLAY.   Here are some Tips:\n",
            "\n",
            " - Often, you just need to run x11vnc as the user logged into the X session.\n",
            "   So make sure to be that user when you type x11vnc.\n",
            " - Being root is usually not enough because the incorrect MIT-MAGIC-COOKIE\n",
            "   file may be accessed.  The cookie file contains the secret key that\n",
            "   allows x11vnc to connect to the desired X DISPLAY.\n",
            " - You can explicitly indicate which MIT-MAGIC-COOKIE file should be used\n",
            "   by the -auth option, e.g.:\n",
            "       x11vnc -auth /home/someuser/.Xauthority -display :0\n",
            "       x11vnc -auth /tmp/.gdmzndVlR -display :0\n",
            "   you must have read permission for the auth file.\n",
            "   See also '-auth guess' and '-findauth' discussed below.\n",
            "\n",
            "** If NO ONE is logged into an X session yet, but there is a greeter login\n",
            "   program like \"gdm\", \"kdm\", \"xdm\", or \"dtlogin\" running, you will need\n",
            "   to find and use the raw display manager MIT-MAGIC-COOKIE file.\n",
            "   Some examples for various display managers:\n",
            "\n",
            "     gdm:     -auth /var/gdm/:0.Xauth\n",
            "              -auth /var/lib/gdm/:0.Xauth\n",
            "     kdm:     -auth /var/lib/kdm/A:0-crWk72\n",
            "              -auth /var/run/xauth/A:0-crWk72\n",
            "     xdm:     -auth /var/lib/xdm/authdir/authfiles/A:0-XQvaJk\n",
            "     dtlogin: -auth /var/dt/A:0-UgaaXa\n",
            "\n",
            "   Sometimes the command \"ps wwwwaux | grep auth\" can reveal the file location.\n",
            "\n",
            "   Starting with x11vnc 0.9.9 you can have it try to guess by using:\n",
            "\n",
            "              -auth guess\n",
            "\n",
            "   (see also the x11vnc -findauth option.)\n",
            "\n",
            "   Only root will have read permission for the file, and so x11vnc must be run\n",
            "   as root (or copy it).  The random characters in the filenames will of course\n",
            "   change and the directory the cookie file resides in is system dependent.\n",
            "\n",
            "See also: http://www.karlrunge.com/x11vnc/faq.html\n",
            "Error: Websockify no se está ejecutando correctamente.\n"
          ]
        }
      ]
    },
    {
      "cell_type": "markdown",
      "source": [
        "## Paso 8: Generar el Enlace VNC\n",
        "\n",
        "Ejecuta la siguiente celda para generar el enlace VNC y poder interactuar con el juego.\n",
        "\n"
      ],
      "metadata": {
        "id": "sHufssSB4lu2"
      }
    },
    {
      "cell_type": "code",
      "source": [
        "from google.colab.output import eval_js\n",
        "\n",
        "# Generar el enlace VNC para interactuar con el juego\n",
        "vnc_link = eval_js(\"google.colab.kernel.proxyPort(5901)\")\n",
        "print(f\"Enlace VNC: {vnc_link}\")\n"
      ],
      "metadata": {
        "colab": {
          "base_uri": "https://localhost:8080/",
          "height": 34
        },
        "id": "c6sIG9vd4pNO",
        "outputId": "403ffaac-4bc1-42cf-9ad4-f19abe8e40df"
      },
      "execution_count": 36,
      "outputs": [
        {
          "output_type": "stream",
          "name": "stdout",
          "text": [
            "Enlace VNC: https://y1quugzhe8-496ff2e9c6d22116-5901-colab.googleusercontent.com/\n"
          ]
        }
      ]
    },
    {
      "cell_type": "markdown",
      "source": [
        "## Paso 9: Mantener la Sesión Activa\n",
        "\n",
        "Ejecuta la siguiente celda para mantener la sesión activa imprimiendo un mensaje cada 60 segundos.\n"
      ],
      "metadata": {
        "id": "xmntnaye7pH3"
      }
    },
    {
      "cell_type": "code",
      "source": [
        "import time\n",
        "# Mantener la sesión activa imprimiendo un mensaje cada 60 segundos\n",
        "while True:\n",
        "    time.sleep(60)  # Espera 60 segundos\n",
        "    print(\"Manteniendo la sesión activa...\")\n"
      ],
      "metadata": {
        "colab": {
          "base_uri": "https://localhost:8080/",
          "height": 193
        },
        "id": "0A7uIZgZ7sa7",
        "outputId": "0e247e69-32cf-4035-c5ad-2b9e5fb261e6"
      },
      "execution_count": 37,
      "outputs": [
        {
          "output_type": "error",
          "ename": "KeyboardInterrupt",
          "evalue": "",
          "traceback": [
            "\u001b[0;31m---------------------------------------------------------------------------\u001b[0m",
            "\u001b[0;31mKeyboardInterrupt\u001b[0m                         Traceback (most recent call last)",
            "\u001b[0;32m<ipython-input-37-50a073252969>\u001b[0m in \u001b[0;36m<cell line: 3>\u001b[0;34m()\u001b[0m\n\u001b[1;32m      2\u001b[0m \u001b[0;31m# Mantener la sesión activa imprimiendo un mensaje cada 60 segundos\u001b[0m\u001b[0;34m\u001b[0m\u001b[0;34m\u001b[0m\u001b[0m\n\u001b[1;32m      3\u001b[0m \u001b[0;32mwhile\u001b[0m \u001b[0;32mTrue\u001b[0m\u001b[0;34m:\u001b[0m\u001b[0;34m\u001b[0m\u001b[0;34m\u001b[0m\u001b[0m\n\u001b[0;32m----> 4\u001b[0;31m     \u001b[0mtime\u001b[0m\u001b[0;34m.\u001b[0m\u001b[0msleep\u001b[0m\u001b[0;34m(\u001b[0m\u001b[0;36m60\u001b[0m\u001b[0;34m)\u001b[0m  \u001b[0;31m# Espera 60 segundos\u001b[0m\u001b[0;34m\u001b[0m\u001b[0;34m\u001b[0m\u001b[0m\n\u001b[0m\u001b[1;32m      5\u001b[0m     \u001b[0mprint\u001b[0m\u001b[0;34m(\u001b[0m\u001b[0;34m\"Manteniendo la sesión activa...\"\u001b[0m\u001b[0;34m)\u001b[0m\u001b[0;34m\u001b[0m\u001b[0;34m\u001b[0m\u001b[0m\n",
            "\u001b[0;31mKeyboardInterrupt\u001b[0m: "
          ]
        }
      ]
    }
  ]
}