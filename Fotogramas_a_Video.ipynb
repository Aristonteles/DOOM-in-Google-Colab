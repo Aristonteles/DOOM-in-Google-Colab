{
  "nbformat": 4,
  "nbformat_minor": 0,
  "metadata": {
    "colab": {
      "provenance": [],
      "authorship_tag": "ABX9TyPt+mPtYt7d27JIWHswhIyo",
      "include_colab_link": true
    },
    "kernelspec": {
      "name": "python3",
      "display_name": "Python 3"
    },
    "language_info": {
      "name": "python"
    }
  },
  "cells": [
    {
      "cell_type": "markdown",
      "metadata": {
        "id": "view-in-github",
        "colab_type": "text"
      },
      "source": [
        "<a href=\"https://colab.research.google.com/github/Aristonteles/DOOM-in-Google-Colab/blob/main/Fotogramas_a_Video.ipynb\" target=\"_parent\"><img src=\"https://colab.research.google.com/assets/colab-badge.svg\" alt=\"Open In Colab\"/></a>"
      ]
    },
    {
      "cell_type": "markdown",
      "source": [
        "# Fotogramas a Video 🎥\n",
        "> Antes de empezar tendras que subir la carpeta de donde tienes tus fotogramas a Drive.\n",
        "\n",
        "\n",
        "## Creado por Licenciado en Chat GPT 🤖\n",
        "Youtube: https://www.youtube.com/channel/UCr2xhd7VyNXhy6q2Mde2KdA"
      ],
      "metadata": {
        "id": "AtDcejz4ncON"
      }
    },
    {
      "cell_type": "markdown",
      "source": [
        "## Celda 1: Montar Google Drive"
      ],
      "metadata": {
        "id": "DRud1VeAon0P"
      }
    },
    {
      "cell_type": "code",
      "source": [
        "from google.colab import drive\n",
        "drive.mount('/content/drive')\n"
      ],
      "metadata": {
        "id": "9pF5xpcQouIM"
      },
      "execution_count": null,
      "outputs": []
    },
    {
      "cell_type": "markdown",
      "source": [
        "## Celda 2: Importar bibliotecas y definir rutas\n",
        "\n",
        "> Remplaza \"/ruta/a/la/carpeta/que/contiene/las/imagenes\" por donde estan tus imagenes\n",
        "\n"
      ],
      "metadata": {
        "id": "xMKmmGfUoziF"
      }
    },
    {
      "cell_type": "code",
      "source": [
        "import cv2\n",
        "import os\n",
        "\n",
        "# Ruta de la carpeta que contiene las imágenes en tu Google Drive\n",
        "folder_path = \"/content/drive/My Drive/ruta/a/la/carpeta/que/contiene/las/imagenes\"\n",
        "\n",
        "# Lista para almacenar los nombres de archivo de las imágenes\n",
        "images = []\n",
        "\n",
        "# Recorrer la carpeta y agregar los nombres de archivo de las imágenes a la lista\n",
        "for filename in sorted(os.listdir(folder_path)):\n",
        "    if filename.endswith(\".png\"):\n",
        "        images.append(os.path.join(folder_path, filename))\n",
        "\n",
        "# Verificar que se hayan encontrado imágenes\n",
        "print(f\"Se encontraron {len(images)} imágenes.\")\n"
      ],
      "metadata": {
        "id": "xBwneHsZpOmo"
      },
      "execution_count": null,
      "outputs": []
    },
    {
      "cell_type": "markdown",
      "source": [
        "## Celda 3: Leer la primera imagen para obtener las dimensiones y configurar el escritor de video"
      ],
      "metadata": {
        "id": "l0WRXryXpYqn"
      }
    },
    {
      "cell_type": "code",
      "source": [
        "# Leer la primera imagen para obtener las dimensiones\n",
        "if len(images) > 0:\n",
        "    frame = cv2.imread(images[0])\n",
        "    height, width, _ = frame.shape\n",
        "\n",
        "    # Configurar el escritor de video\n",
        "    fourcc = cv2.VideoWriter_fourcc(*\"mp4v\")  # Codec para video MP4\n",
        "    video_writer = cv2.VideoWriter(\"/content/drive/My Drive/video.mp4\", fourcc, 30.0, (width, height))\n",
        "\n",
        "    print(f\"Dimensiones del video: {width}x{height}\")\n",
        "else:\n",
        "    print(\"No se encontraron imágenes en la carpeta especificada.\")\n"
      ],
      "metadata": {
        "id": "QJmuOoo_pcsj"
      },
      "execution_count": null,
      "outputs": []
    },
    {
      "cell_type": "markdown",
      "source": [
        "# Celda 4: Crear el video a partir de las imágenes"
      ],
      "metadata": {
        "id": "pTfiyLHxpf4_"
      }
    },
    {
      "cell_type": "code",
      "source": [
        "# Agregar las imágenes al video\n",
        "for image_path in images:\n",
        "    frame = cv2.imread(image_path)\n",
        "    video_writer.write(frame)\n",
        "\n",
        "# Liberar el escritor de video\n",
        "video_writer.release()\n",
        "\n",
        "print(\"Video creado con éxito.\")\n"
      ],
      "metadata": {
        "id": "XxSLUpJopmTP"
      },
      "execution_count": null,
      "outputs": []
    }
  ]
}